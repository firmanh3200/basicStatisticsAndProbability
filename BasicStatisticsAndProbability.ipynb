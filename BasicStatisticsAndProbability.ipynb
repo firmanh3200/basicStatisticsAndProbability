{
  "nbformat": 4,
  "nbformat_minor": 0,
  "metadata": {
    "colab": {
      "provenance": [],
      "collapsed_sections": [],
      "authorship_tag": "ABX9TyNA8az+kkMPt+uTU6wdYeRL",
      "include_colab_link": true
    },
    "kernelspec": {
      "name": "python3",
      "display_name": "Python 3"
    },
    "language_info": {
      "name": "python"
    }
  },
  "cells": [
    {
      "cell_type": "markdown",
      "metadata": {
        "id": "view-in-github",
        "colab_type": "text"
      },
      "source": [
        "<a href=\"https://colab.research.google.com/github/kmshariat/basicStatisticsAndProbability/blob/main/BasicStatisticsAndProbability.ipynb\" target=\"_parent\"><img src=\"https://colab.research.google.com/assets/colab-badge.svg\" alt=\"Open In Colab\"/></a>"
      ]
    },
    {
      "cell_type": "markdown",
      "source": [
        "```\n",
        "Course Title: Basic Statistics and Probabilty\n",
        "Course Code: STA 202E\n",
        "Place: Shahjalal University of Science and Technology, Sylhet, Bangladesh.\n",
        "Instructor: Dr. Luthful Alahi Kawsar, Professor, Department of Statistics.\n",
        "Notes and Codes provider: K.M Shariat Ullha, Student, Department of Electrical and Electronic Engineering. \n",
        "```\n",
        "`Definition 1.1`: Statistics is concerneed with scientific methods for collecting, organizing, summarizing, presenting and analyzing sample data as well as drawing valid conclusions about population characteristics and making resonable decisions on the basis of such analysis. \n"
      ],
      "metadata": {
        "id": "i5O_dMf91HTn"
      }
    },
    {
      "cell_type": "code",
      "execution_count": null,
      "metadata": {
        "id": "igeewSix1A7W"
      },
      "outputs": [],
      "source": []
    }
  ]
}